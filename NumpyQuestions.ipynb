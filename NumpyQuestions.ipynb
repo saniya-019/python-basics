{
 "cells": [
  {
   "cell_type": "markdown",
   "id": "6fb1b557-c72a-4d15-b0bd-b0b19c6363a9",
   "metadata": {},
   "source": [
    "### 1.Array creation and Attributes."
   ]
  },
  {
   "cell_type": "code",
   "execution_count": 1,
   "id": "406455ba-b56e-475f-b881-d56fc4573f2e",
   "metadata": {},
   "outputs": [],
   "source": [
    "# import numpy library.\n",
    "import numpy as np"
   ]
  },
  {
   "cell_type": "code",
   "execution_count": 3,
   "id": "ed234f8a-4ecd-4f86-951f-8e404371fb49",
   "metadata": {},
   "outputs": [
    {
     "data": {
      "text/plain": [
       "array([1, 2, 3, 4, 5])"
      ]
     },
     "execution_count": 3,
     "metadata": {},
     "output_type": "execute_result"
    }
   ],
   "source": [
    "#create a 1D  numpy array.\n",
    "\n",
    "l = [1,2,3,4,5]\n",
    "arr = np.array(l)\n",
    "arr"
   ]
  },
  {
   "cell_type": "code",
   "execution_count": 4,
   "id": "f738e029-4e27-40e1-afae-d1452b616804",
   "metadata": {},
   "outputs": [
    {
     "data": {
      "text/plain": [
       "array([0., 0., 0., 0., 0., 0., 0., 0., 0., 0.])"
      ]
     },
     "execution_count": 4,
     "metadata": {},
     "output_type": "execute_result"
    }
   ],
   "source": [
    "#create a 1d array of 10 zeros.\n",
    "\n",
    "arr = np.zeros(10)\n",
    "arr"
   ]
  },
  {
   "cell_type": "code",
   "execution_count": 5,
   "id": "e46f342c-a960-41cb-8e96-54ef95bb6f32",
   "metadata": {},
   "outputs": [
    {
     "data": {
      "text/plain": [
       "array([[1., 1., 1.],\n",
       "       [1., 1., 1.],\n",
       "       [1., 1., 1.]])"
      ]
     },
     "execution_count": 5,
     "metadata": {},
     "output_type": "execute_result"
    }
   ],
   "source": [
    "arr = np.ones((3,3))\n",
    "arr"
   ]
  },
  {
   "cell_type": "code",
   "execution_count": 6,
   "id": "5e3607af-c43b-4583-89ae-07443cfe1895",
   "metadata": {},
   "outputs": [
    {
     "data": {
      "text/plain": [
       "array([10, 12, 14, 16, 18, 20, 22, 24, 26, 28, 30, 32, 34, 36, 38, 40, 42,\n",
       "       44, 46, 48, 50])"
      ]
     },
     "execution_count": 6,
     "metadata": {},
     "output_type": "execute_result"
    }
   ],
   "source": [
    "#create an array of all even integers.\n",
    "arr = np.arange(10,51)\n",
    "bool_index = arr % 2 == 0\n",
    "arr = arr[bool_index]\n",
    "arr"
   ]
  },
  {
   "cell_type": "code",
   "execution_count": 7,
   "id": "938c4dc7-de46-403d-a50a-4759cd1d5141",
   "metadata": {},
   "outputs": [
    {
     "data": {
      "text/plain": [
       "array([[0, 1, 2],\n",
       "       [3, 4, 5],\n",
       "       [6, 7, 8]])"
      ]
     },
     "execution_count": 7,
     "metadata": {},
     "output_type": "execute_result"
    }
   ],
   "source": [
    "#create a 3*3 matrix with values ranging from 0 to 8.\n",
    "mat = np.arange(0,9).reshape(3,3)\n",
    "mat"
   ]
  },
  {
   "cell_type": "code",
   "execution_count": 8,
   "id": "2206e441-3001-4f0c-abb1-7ee4827f4317",
   "metadata": {},
   "outputs": [
    {
     "data": {
      "text/plain": [
       "array([[1., 0., 0., 0.],\n",
       "       [0., 1., 0., 0.],\n",
       "       [0., 0., 1., 0.],\n",
       "       [0., 0., 0., 1.]])"
      ]
     },
     "execution_count": 8,
     "metadata": {},
     "output_type": "execute_result"
    }
   ],
   "source": [
    "#create a 4*4 identity matrix.\n",
    "identity_mat = np.eye(4,4)\n",
    "identity_mat"
   ]
  },
  {
   "cell_type": "code",
   "execution_count": 9,
   "id": "017d29b0-3897-43f7-95e9-7d6a06315591",
   "metadata": {},
   "outputs": [
    {
     "data": {
      "text/plain": [
       "array([0.  , 0.25, 0.5 , 0.75, 1.  ])"
      ]
     },
     "execution_count": 9,
     "metadata": {},
     "output_type": "execute_result"
    }
   ],
   "source": [
    "#create an array of 5 numbers evenly spaced between 0 and 1.\n",
    "arr = np.linspace(0,1,5)\n",
    "arr"
   ]
  },
  {
   "cell_type": "code",
   "execution_count": 10,
   "id": "c53d4cd2-c2c5-46c6-84ad-2af632e09825",
   "metadata": {},
   "outputs": [
    {
     "data": {
      "text/plain": [
       "array([[0.19305832, 0.85573404, 0.77827268, 0.97630607],\n",
       "       [0.96561989, 0.74924684, 0.29235899, 0.18022953],\n",
       "       [0.22201969, 0.94333943, 0.81240357, 0.43871302]])"
      ]
     },
     "execution_count": 10,
     "metadata": {},
     "output_type": "execute_result"
    }
   ],
   "source": [
    "#create a 3*4 array  filled with random numbers between 0 and 1.\n",
    "random_num = np.random.rand(3,4)\n",
    "random_num"
   ]
  },
  {
   "cell_type": "code",
   "execution_count": 11,
   "id": "750b3a5a-8f78-4566-8cb2-044ac04e1966",
   "metadata": {},
   "outputs": [
    {
     "data": {
      "text/plain": [
       "array([[79, 55,  5,  2,  3],\n",
       "       [78, 14, 25,  2, 97],\n",
       "       [25, 98,  4, 41, 45],\n",
       "       [83, 44, 25, 37, 39],\n",
       "       [22, 62, 75, 64, 68]], dtype=int32)"
      ]
     },
     "execution_count": 11,
     "metadata": {},
     "output_type": "execute_result"
    }
   ],
   "source": [
    "#create a 5*5 array with random inteegers from 1 to 100.\n",
    "arr = np.random.randint(1,100,(5,5))\n",
    "arr"
   ]
  },
  {
   "cell_type": "code",
   "execution_count": 12,
   "id": "bd96b4fa-9ff6-47cb-8388-2acc01dacaae",
   "metadata": {},
   "outputs": [
    {
     "data": {
      "text/plain": [
       "(5, 5)"
      ]
     },
     "execution_count": 12,
     "metadata": {},
     "output_type": "execute_result"
    }
   ],
   "source": [
    "#find the shape of given array.\n",
    "arr = np.arange(25).reshape(5,5)\n",
    "arr.shape"
   ]
  },
  {
   "cell_type": "code",
   "execution_count": 13,
   "id": "b51b2fc2-52c0-4cef-9b61-998cfce9d104",
   "metadata": {},
   "outputs": [
    {
     "data": {
      "text/plain": [
       "dtype('int64')"
      ]
     },
     "execution_count": 13,
     "metadata": {},
     "output_type": "execute_result"
    }
   ],
   "source": [
    "#find the data type of above array.\n",
    "arr.dtype"
   ]
  },
  {
   "cell_type": "code",
   "execution_count": 14,
   "id": "a8c8cef2-9ec7-4f7c-92af-fdc897aa9672",
   "metadata": {},
   "outputs": [
    {
     "data": {
      "text/plain": [
       "25"
      ]
     },
     "execution_count": 14,
     "metadata": {},
     "output_type": "execute_result"
    }
   ],
   "source": [
    "#find the total number of elements.\n",
    "arr.size"
   ]
  },
  {
   "cell_type": "code",
   "execution_count": 15,
   "id": "0ac0b51e-cfad-4379-9d45-38ce937a45c2",
   "metadata": {},
   "outputs": [
    {
     "data": {
      "text/plain": [
       "dtype('float64')"
      ]
     },
     "execution_count": 15,
     "metadata": {},
     "output_type": "execute_result"
    }
   ],
   "source": [
    "#create a array[1,2,3] but make sure its data type is float.\n",
    "a = np.array([1,2,3], dtype = float)\n",
    "a\n",
    "a.dtype\n"
   ]
  },
  {
   "cell_type": "code",
   "execution_count": 16,
   "id": "9e20bd5d-fd17-45cf-ae19-90eba17208a3",
   "metadata": {},
   "outputs": [
    {
     "data": {
      "text/plain": [
       "dtype('float64')"
      ]
     },
     "execution_count": 16,
     "metadata": {},
     "output_type": "execute_result"
    }
   ],
   "source": [
    "#convert the data type of an existing interger array to float.\n",
    "arr = np.array([1,2,3,4])\n",
    "new_arr = arr.astype(float)\n",
    "new_arr.dtype"
   ]
  },
  {
   "cell_type": "markdown",
   "id": "4210991d-ff6b-49d7-9e59-3cfdf214e860",
   "metadata": {},
   "source": [
    "### 2.Indexing and Slicing."
   ]
  },
  {
   "cell_type": "code",
   "execution_count": 17,
   "id": "187d5722-8ef1-4d8c-a3b0-c9b68f597fec",
   "metadata": {},
   "outputs": [
    {
     "data": {
      "text/plain": [
       "np.int64(0)"
      ]
     },
     "execution_count": 17,
     "metadata": {},
     "output_type": "execute_result"
    }
   ],
   "source": [
    "# get the first element.\n",
    "arr_1d = np.arange(10)\n",
    "arr_1d[0]"
   ]
  },
  {
   "cell_type": "code",
   "execution_count": 18,
   "id": "b6008967-6755-414e-b5c0-2d35bdbdcd10",
   "metadata": {},
   "outputs": [
    {
     "data": {
      "text/plain": [
       "np.int64(9)"
      ]
     },
     "execution_count": 18,
     "metadata": {},
     "output_type": "execute_result"
    }
   ],
   "source": [
    "#get the last element.\n",
    "arr_1d[-1]"
   ]
  },
  {
   "cell_type": "code",
   "execution_count": 19,
   "id": "6742a974-f7c1-47ee-9c8f-8c15c32ab63d",
   "metadata": {},
   "outputs": [
    {
     "data": {
      "text/plain": [
       "array([2, 3, 4, 5])"
      ]
     },
     "execution_count": 19,
     "metadata": {},
     "output_type": "execute_result"
    }
   ],
   "source": [
    "#get the elements from index 2 to 5.\n",
    "slice = arr_1d[2:6]\n",
    "slice"
   ]
  },
  {
   "cell_type": "code",
   "execution_count": 20,
   "id": "f659ac58-1935-4863-a7f2-d45f9deaa6f0",
   "metadata": {},
   "outputs": [
    {
     "data": {
      "text/plain": [
       "array([9, 8, 7, 6, 5, 4, 3, 2, 1, 0])"
      ]
     },
     "execution_count": 20,
     "metadata": {},
     "output_type": "execute_result"
    }
   ],
   "source": [
    "#get all elements in reverse order.\n",
    "arr_1d[::-1]"
   ]
  },
  {
   "cell_type": "code",
   "execution_count": 21,
   "id": "1f70a34b-fa3e-4b7c-9a8c-1f322c7b3b44",
   "metadata": {},
   "outputs": [
    {
     "data": {
      "text/plain": [
       "np.int64(6)"
      ]
     },
     "execution_count": 21,
     "metadata": {},
     "output_type": "execute_result"
    }
   ],
   "source": [
    "#get the element at row 1,column 2.\n",
    "arr_2d = np.array([[1,2,3],[4,5,6],[7,8,9]])\n",
    "arr_2d[1,2]"
   ]
  },
  {
   "cell_type": "code",
   "execution_count": 22,
   "id": "e8d28ae0-bc7c-4158-a4c8-95174187d3f8",
   "metadata": {},
   "outputs": [
    {
     "data": {
      "text/plain": [
       "array([1, 2, 3])"
      ]
     },
     "execution_count": 22,
     "metadata": {},
     "output_type": "execute_result"
    }
   ],
   "source": [
    "#get entire first row.\n",
    "arr_2d[0]"
   ]
  },
  {
   "cell_type": "code",
   "execution_count": 23,
   "id": "0d849d27-25fd-42de-a546-0809446d8971",
   "metadata": {},
   "outputs": [
    {
     "data": {
      "text/plain": [
       "array([2, 5, 8])"
      ]
     },
     "execution_count": 23,
     "metadata": {},
     "output_type": "execute_result"
    }
   ],
   "source": [
    "#get entire second column.\n",
    "arr_2d[:,1]"
   ]
  },
  {
   "cell_type": "code",
   "execution_count": 24,
   "id": "556df6c2-3467-4e3c-8a9f-c9d3d36cc036",
   "metadata": {},
   "outputs": [
    {
     "data": {
      "text/plain": [
       "array([[1, 2],\n",
       "       [4, 5]])"
      ]
     },
     "execution_count": 24,
     "metadata": {},
     "output_type": "execute_result"
    }
   ],
   "source": [
    "#extract the sub array [[1,2],[4,5]]\n",
    "arr_2d[:2,:2]"
   ]
  },
  {
   "cell_type": "code",
   "execution_count": 25,
   "id": "f5a21f97-792b-4a7a-8fdc-792a93669c38",
   "metadata": {},
   "outputs": [
    {
     "data": {
      "text/plain": [
       "array([6, 7, 8, 9])"
      ]
     },
     "execution_count": 25,
     "metadata": {},
     "output_type": "execute_result"
    }
   ],
   "source": [
    "# find all numbers greater than 5.\n",
    "arr_1d = np.arange(10)\n",
    "bool_index = arr_1d > 5\n",
    "arr_1d = arr_1d[bool_index]\n",
    "arr_1d"
   ]
  },
  {
   "cell_type": "code",
   "execution_count": 26,
   "id": "5ca57b87-8422-44b1-a785-14c81ca7475c",
   "metadata": {},
   "outputs": [
    {
     "data": {
      "text/plain": [
       "array([1, 3, 5, 7, 9])"
      ]
     },
     "execution_count": 26,
     "metadata": {},
     "output_type": "execute_result"
    }
   ],
   "source": [
    "#select all numbers that are odd.\n",
    "arr_2d = np.array([[1,2,3],[4,5,6],[7,8,9]])\n",
    "bool_index = arr_2d % 2 != 0\n",
    "arr_2d = arr_2d[bool_index]\n",
    "arr_2d"
   ]
  },
  {
   "cell_type": "code",
   "execution_count": 27,
   "id": "d7a0a6c4-2623-4df3-b0e7-80e1204865bf",
   "metadata": {},
   "outputs": [
    {
     "data": {
      "text/plain": [
       "array([0, 1, 2, 3, 4, 5, 0, 0, 0, 0])"
      ]
     },
     "execution_count": 27,
     "metadata": {},
     "output_type": "execute_result"
    }
   ],
   "source": [
    "#replace all values greater than 5 with 0.\n",
    "arr_1d = np.arange(10)\n",
    "arr_1d[arr_1d > 5]= 0\n",
    "arr_1d"
   ]
  },
  {
   "cell_type": "code",
   "execution_count": 28,
   "id": "0156c3cd-53e9-4e78-93ef-1532d9dd3454",
   "metadata": {},
   "outputs": [
    {
     "data": {
      "text/plain": [
       "array([1, 3, 7])"
      ]
     },
     "execution_count": 28,
     "metadata": {},
     "output_type": "execute_result"
    }
   ],
   "source": [
    "#select elements at indices 1,3,7.\n",
    "arr_1d = np.arange(10)\n",
    "arr_1d[[1,3,7]]"
   ]
  },
  {
   "cell_type": "code",
   "execution_count": 29,
   "id": "a4dc93a6-ecd5-4ee6-b243-248ee821fb68",
   "metadata": {},
   "outputs": [
    {
     "data": {
      "text/plain": [
       "array([[1, 2, 3],\n",
       "       [7, 8, 9]])"
      ]
     },
     "execution_count": 29,
     "metadata": {},
     "output_type": "execute_result"
    }
   ],
   "source": [
    "#select the first and third rows.\n",
    "arr_2d = np.array([[1,2,3],[4,5,6],[7,8,9]])\n",
    "arr_2d[[0,2]]"
   ]
  },
  {
   "cell_type": "code",
   "execution_count": 30,
   "id": "b4eac5d5-33f4-4838-a124-2cc4801af147",
   "metadata": {},
   "outputs": [
    {
     "data": {
      "text/plain": [
       "array([[1, 2, 3],\n",
       "       [4, 5, 6],\n",
       "       [7, 8, 9]])"
      ]
     },
     "execution_count": 30,
     "metadata": {},
     "output_type": "execute_result"
    }
   ],
   "source": [
    "# \n",
    "arr_2d = np.array([[1,2,3],[4,5,6],[7,8,9]])\n",
    "b = arr_2d.copy()\n",
    "b[0,0] = 4\n",
    "b\n",
    "arr_2d"
   ]
  },
  {
   "cell_type": "code",
   "execution_count": 31,
   "id": "0e546b0f-a940-4857-b3de-3538390f38b5",
   "metadata": {},
   "outputs": [
    {
     "data": {
      "text/plain": [
       "array([1, 5, 9])"
      ]
     },
     "execution_count": 31,
     "metadata": {},
     "output_type": "execute_result"
    }
   ],
   "source": [
    "#\n",
    "arr_2d = np.array([[1,2,3],[4,5,6],[7,8,9]])\n",
    "diagonals = np.diag(arr_2d)\n",
    "diagonals"
   ]
  },
  {
   "cell_type": "code",
   "execution_count": 32,
   "id": "cc22eb60-9521-40cf-9c52-72cd880b31d8",
   "metadata": {},
   "outputs": [
    {
     "data": {
      "text/plain": [
       "array([[1, 2, 3],\n",
       "       [4, 5, 6]])"
      ]
     },
     "execution_count": 32,
     "metadata": {},
     "output_type": "execute_result"
    }
   ],
   "source": [
    "#\n",
    "arr_2d = np.array([[1,2,3],[4,5,6],[7,8,9]])\n",
    "less = arr_2d[arr_2d[:,0] < 5]\n",
    "less\n"
   ]
  },
  {
   "cell_type": "code",
   "execution_count": 33,
   "id": "adfeb98f-bc05-4408-b4e7-b9400ce2fc08",
   "metadata": {},
   "outputs": [
    {
     "data": {
      "text/plain": [
       "array([2, 4, 9])"
      ]
     },
     "execution_count": 33,
     "metadata": {},
     "output_type": "execute_result"
    }
   ],
   "source": [
    "#\n",
    "arr_2d = np.array([[1,2,3],[4,5,6],[7,8,9]])\n",
    "rows = np.array([0,1,2])\n",
    "cols = np.array([1,0,2])\n",
    "selected = arr_2d[rows,cols]\n",
    "selected"
   ]
  },
  {
   "cell_type": "code",
   "execution_count": 34,
   "id": "35a92d99-64a2-488c-b3f7-0d23d2a0a0f3",
   "metadata": {},
   "outputs": [
    {
     "data": {
      "text/plain": [
       "array([[7, 8, 9],\n",
       "       [4, 5, 6],\n",
       "       [1, 2, 3]])"
      ]
     },
     "execution_count": 34,
     "metadata": {},
     "output_type": "execute_result"
    }
   ],
   "source": [
    "# reverse the order of rows.\n",
    "arr_2d = np.array([[1,2,3],[4,5,6],[7,8,9]])\n",
    "arr_2d[::-1]"
   ]
  },
  {
   "cell_type": "markdown",
   "id": "c77005cf-f2cd-441d-8a17-c9421a894f8b",
   "metadata": {},
   "source": [
    "### 3.Mathematical and universal functions."
   ]
  },
  {
   "cell_type": "code",
   "execution_count": 35,
   "id": "15e8933b-5093-4bbc-bea7-8723a2f8a56c",
   "metadata": {},
   "outputs": [
    {
     "data": {
      "text/plain": [
       "array([ 6,  8, 10, 12])"
      ]
     },
     "execution_count": 35,
     "metadata": {},
     "output_type": "execute_result"
    }
   ],
   "source": [
    "# add array a and b element wise.\n",
    "a = np.array([1,2,3,4])\n",
    "b = np.array([5,6,7,8])\n",
    "add = a + b\n",
    "add"
   ]
  },
  {
   "cell_type": "code",
   "execution_count": 36,
   "id": "6df4a493-3a42-4d86-af1b-a385a56cc44a",
   "metadata": {},
   "outputs": [
    {
     "data": {
      "text/plain": [
       "array([ 3,  6,  9, 12])"
      ]
     },
     "execution_count": 36,
     "metadata": {},
     "output_type": "execute_result"
    }
   ],
   "source": [
    "# multiply array a by 3.\n",
    "a = np.array([1,2,3,4])\n",
    "mul = a*3\n",
    "mul"
   ]
  },
  {
   "cell_type": "code",
   "execution_count": 37,
   "id": "7ca3439e-529f-49bb-beb0-878b73c75195",
   "metadata": {},
   "outputs": [
    {
     "data": {
      "text/plain": [
       "array([ 1,  4,  9, 16])"
      ]
     },
     "execution_count": 37,
     "metadata": {},
     "output_type": "execute_result"
    }
   ],
   "source": [
    "#calculate square of every element.\n",
    "a = np.array([1,2,3,4])\n",
    "sq = np.square(a)\n",
    "sq"
   ]
  },
  {
   "cell_type": "code",
   "execution_count": 38,
   "id": "33817381-2f92-445a-9d2c-36fd9875ae19",
   "metadata": {},
   "outputs": [
    {
     "data": {
      "text/plain": [
       "array([2.23606798, 2.44948974, 2.64575131, 2.82842712])"
      ]
     },
     "execution_count": 38,
     "metadata": {},
     "output_type": "execute_result"
    }
   ],
   "source": [
    "#square root of every element in b.\n",
    "b = np.array([5,6,7,8])\n",
    "sqt = np.sqrt(b)\n",
    "sqt"
   ]
  },
  {
   "cell_type": "code",
   "execution_count": 39,
   "id": "1c5352e7-1645-440d-83dd-65f37d1ec1c3",
   "metadata": {},
   "outputs": [
    {
     "data": {
      "text/plain": [
       "array([ 2.71828183,  7.3890561 , 20.08553692, 54.59815003])"
      ]
     },
     "execution_count": 39,
     "metadata": {},
     "output_type": "execute_result"
    }
   ],
   "source": [
    "#calculate exponential of every element.\n",
    "a = np.array([1,2,3,4])\n",
    "exp = np.exp(a)\n",
    "exp"
   ]
  },
  {
   "cell_type": "code",
   "execution_count": 40,
   "id": "4746e95d-e246-4693-8ed2-b1ccfe3f6dd2",
   "metadata": {},
   "outputs": [
    {
     "data": {
      "text/plain": [
       "np.int64(10)"
      ]
     },
     "execution_count": 40,
     "metadata": {},
     "output_type": "execute_result"
    }
   ],
   "source": [
    "#sum of all elements.\n",
    "a = np.array([1,2,3,4])\n",
    "sum = np.sum(a)\n",
    "sum"
   ]
  },
  {
   "cell_type": "code",
   "execution_count": 41,
   "id": "76417875-4963-4f7f-99b0-f5b9aa3e4d1e",
   "metadata": {},
   "outputs": [
    {
     "data": {
      "text/plain": [
       "np.float64(6.5)"
      ]
     },
     "execution_count": 41,
     "metadata": {},
     "output_type": "execute_result"
    }
   ],
   "source": [
    "#mean of all elements.\n",
    "b = np.array([5,6,7,8])\n",
    "m = np.mean(b)\n",
    "m"
   ]
  },
  {
   "cell_type": "code",
   "execution_count": 42,
   "id": "f421d1e4-61d8-44cb-ac73-be5db4d4b05c",
   "metadata": {},
   "outputs": [
    {
     "data": {
      "text/plain": [
       "np.int64(4)"
      ]
     },
     "execution_count": 42,
     "metadata": {},
     "output_type": "execute_result"
    }
   ],
   "source": [
    "#maximum value.\n",
    "a = np.array([1,2,3,4])\n",
    "max = np.max(a)\n",
    "max"
   ]
  },
  {
   "cell_type": "code",
   "execution_count": 43,
   "id": "d3f66958-17af-4af8-997c-886157038bdd",
   "metadata": {},
   "outputs": [
    {
     "data": {
      "text/plain": [
       "np.int64(5)"
      ]
     },
     "execution_count": 43,
     "metadata": {},
     "output_type": "execute_result"
    }
   ],
   "source": [
    "# minimum value in b.\n",
    "b = np.array([5,6,7,8])\n",
    "min = np.min(b)\n",
    "min"
   ]
  },
  {
   "cell_type": "code",
   "execution_count": 44,
   "id": "46392551-b38c-4671-a27f-9d4932a286b4",
   "metadata": {},
   "outputs": [
    {
     "data": {
      "text/plain": [
       "np.int64(66)"
      ]
     },
     "execution_count": 44,
     "metadata": {},
     "output_type": "execute_result"
    }
   ],
   "source": [
    "#find sum of all elements.\n",
    "mat = np.arange(12).reshape(3,4)\n",
    "sum = np.sum(mat)\n",
    "sum"
   ]
  },
  {
   "cell_type": "code",
   "execution_count": 45,
   "id": "941cc9bf-aa3f-4e26-a345-8c5f254fc93a",
   "metadata": {},
   "outputs": [
    {
     "data": {
      "text/plain": [
       "array([12, 15, 18, 21])"
      ]
     },
     "execution_count": 45,
     "metadata": {},
     "output_type": "execute_result"
    }
   ],
   "source": [
    "# sum of each column.\n",
    "mat = np.arange(12).reshape(3,4)\n",
    "sum = np.sum(mat,axis = 0 )\n",
    "sum"
   ]
  },
  {
   "cell_type": "code",
   "execution_count": 46,
   "id": "cf8df5ed-57db-4a76-8e7e-c1e80036d6c7",
   "metadata": {},
   "outputs": [
    {
     "data": {
      "text/plain": [
       "array([1.5, 5.5, 9.5])"
      ]
     },
     "execution_count": 46,
     "metadata": {},
     "output_type": "execute_result"
    }
   ],
   "source": [
    "#mean of each row.\n",
    "mat = np.arange(12).reshape(3,4)\n",
    "m = np.mean(mat,axis=1)\n",
    "m"
   ]
  },
  {
   "cell_type": "code",
   "execution_count": 47,
   "id": "cc1b468e-48cd-4d78-a306-f9281cddb94b",
   "metadata": {},
   "outputs": [
    {
     "data": {
      "text/plain": [
       "array([0, 4, 8])"
      ]
     },
     "execution_count": 47,
     "metadata": {},
     "output_type": "execute_result"
    }
   ],
   "source": [
    "# minimum value in each row.\n",
    "mat = np.arange(12).reshape(3,4)\n",
    "min = np.min(mat,axis = 1)\n",
    "min"
   ]
  },
  {
   "cell_type": "code",
   "execution_count": 48,
   "id": "2d5529f7-1fd0-4534-9f6d-bfd6e285536f",
   "metadata": {},
   "outputs": [
    {
     "data": {
      "text/plain": [
       "array([5, 6, 7, 8])"
      ]
     },
     "execution_count": 48,
     "metadata": {},
     "output_type": "execute_result"
    }
   ],
   "source": [
    "a = np.array([1,2,3,4])\n",
    "b = np.array([5,6,7,8])\n",
    "new = np.maximum(a,b)\n",
    "new"
   ]
  },
  {
   "cell_type": "code",
   "execution_count": 49,
   "id": "0291e011-545f-4545-912e-070478e2bf5a",
   "metadata": {},
   "outputs": [
    {
     "data": {
      "text/plain": [
       "array([2., 2., 4.])"
      ]
     },
     "execution_count": 49,
     "metadata": {},
     "output_type": "execute_result"
    }
   ],
   "source": [
    "#round all values to nearest integer.\n",
    "arr_float = np.array([1.5,2.3,3.8])\n",
    "r = np.round(arr_float)\n",
    "r"
   ]
  },
  {
   "cell_type": "code",
   "execution_count": 50,
   "id": "a8bc1b2f-044d-48c6-98b1-4b1fdaf5493b",
   "metadata": {},
   "outputs": [
    {
     "data": {
      "text/plain": [
       "np.float64(1.118033988749895)"
      ]
     },
     "execution_count": 50,
     "metadata": {},
     "output_type": "execute_result"
    }
   ],
   "source": [
    "# calculate standard deviation.\n",
    "a = np.array([1,2,3,4])\n",
    "std = np.std(a)\n",
    "std"
   ]
  },
  {
   "cell_type": "code",
   "execution_count": 51,
   "id": "f90556e9-cf23-456e-ab89-c2deb524ba2c",
   "metadata": {},
   "outputs": [
    {
     "data": {
      "text/plain": [
       "array([ 1,  3,  6, 10])"
      ]
     },
     "execution_count": 51,
     "metadata": {},
     "output_type": "execute_result"
    }
   ],
   "source": [
    "#calculate cumulative sum of a.\n",
    "a = np.array([1,2,3,4])\n",
    "cum = np.cumsum(a)\n",
    "cum\n",
    "             "
   ]
  },
  {
   "cell_type": "code",
   "execution_count": 52,
   "id": "e4ff86aa-63e4-4e2f-887b-1ba2c2fe319e",
   "metadata": {},
   "outputs": [
    {
     "data": {
      "text/plain": [
       "array([False, False, False, False])"
      ]
     },
     "execution_count": 52,
     "metadata": {},
     "output_type": "execute_result"
    }
   ],
   "source": [
    "#compare arrays a and b.\n",
    "a = np.array([1,2,3,4])\n",
    "b = np.array([5,6,7,8])\n",
    "equal = a == b\n",
    "equal"
   ]
  },
  {
   "cell_type": "code",
   "execution_count": 53,
   "id": "93141dac-5d4f-46c5-8555-8d54b9f60e6b",
   "metadata": {},
   "outputs": [
    {
     "data": {
      "text/plain": [
       "np.True_"
      ]
     },
     "execution_count": 53,
     "metadata": {},
     "output_type": "execute_result"
    }
   ],
   "source": [
    "a = np.array([1,2,3,4])\n",
    "com = np.any(a>2)\n",
    "com\n"
   ]
  },
  {
   "cell_type": "code",
   "execution_count": 54,
   "id": "1d1bb2e6-7b6f-4913-ae8a-956f32a34de0",
   "metadata": {},
   "outputs": [
    {
     "data": {
      "text/plain": [
       "np.True_"
      ]
     },
     "execution_count": 54,
     "metadata": {},
     "output_type": "execute_result"
    }
   ],
   "source": [
    " b = np.array([5,6,7,8])\n",
    "com = np.all(b>4)\n",
    "com"
   ]
  },
  {
   "cell_type": "markdown",
   "id": "b388d910-1e78-43b5-a6a8-234b88e7cbdf",
   "metadata": {},
   "source": [
    "### 4.Key Manipulation techniques"
   ]
  },
  {
   "cell_type": "code",
   "execution_count": 55,
   "id": "e3bf8a5b-6e32-48e1-8214-4d1fd5202041",
   "metadata": {},
   "outputs": [
    {
     "data": {
      "text/plain": [
       "array([[ 0,  1,  2,  3,  4],\n",
       "       [ 5,  6,  7,  8,  9],\n",
       "       [10, 11, 12, 13, 14],\n",
       "       [15, 16, 17, 18, 19]])"
      ]
     },
     "execution_count": 55,
     "metadata": {},
     "output_type": "execute_result"
    }
   ],
   "source": [
    "# reshape the array.\n",
    "arr = np.arange(20).reshape(4,5)\n",
    "arr"
   ]
  },
  {
   "cell_type": "code",
   "execution_count": 56,
   "id": "7c6ede3a-6dea-468b-92d5-f652400e00fc",
   "metadata": {},
   "outputs": [
    {
     "data": {
      "text/plain": [
       "array([1, 2, 3, 4])"
      ]
     },
     "execution_count": 56,
     "metadata": {},
     "output_type": "execute_result"
    }
   ],
   "source": [
    "#flatten the matrix.\n",
    "matrix = np.array([[1,2],[3,4]])\n",
    "f = matrix.ravel()\n",
    "f"
   ]
  },
  {
   "cell_type": "code",
   "execution_count": 57,
   "id": "4f70b40c-08c4-4b76-a2ac-07ab66eb0261",
   "metadata": {},
   "outputs": [
    {
     "data": {
      "text/plain": [
       "array([[ 0,  5, 10],\n",
       "       [ 1,  6, 11],\n",
       "       [ 2,  7, 12],\n",
       "       [ 3,  8, 13],\n",
       "       [ 4,  9, 14]])"
      ]
     },
     "execution_count": 57,
     "metadata": {},
     "output_type": "execute_result"
    }
   ],
   "source": [
    "#Transpose a matrix.\n",
    "mat = np.arange(15).reshape(3,5)\n",
    "trans = mat.T\n",
    "trans"
   ]
  },
  {
   "cell_type": "code",
   "execution_count": 58,
   "id": "36cc8898-7f41-4f4b-b7d5-7f32e3e1b41e",
   "metadata": {},
   "outputs": [
    {
     "data": {
      "text/plain": [
       "array([[1., 1., 1.],\n",
       "       [1., 1., 1.],\n",
       "       [0., 0., 0.],\n",
       "       [0., 0., 0.]])"
      ]
     },
     "execution_count": 58,
     "metadata": {},
     "output_type": "execute_result"
    }
   ],
   "source": [
    "#vertically stack the arrays.\n",
    "a = np.ones((2,3))\n",
    "b = np.zeros((2,3))\n",
    "c = np.vstack((a,b))\n",
    "c"
   ]
  },
  {
   "cell_type": "code",
   "execution_count": 59,
   "id": "68187ad7-0561-4ca7-a046-a1174c451468",
   "metadata": {},
   "outputs": [
    {
     "data": {
      "text/plain": [
       "array([[1., 1., 1., 0., 0., 0.],\n",
       "       [1., 1., 1., 0., 0., 0.]])"
      ]
     },
     "execution_count": 59,
     "metadata": {},
     "output_type": "execute_result"
    }
   ],
   "source": [
    "# horizontally stack the arrays.\n",
    "a = np.ones((2,3))\n",
    "b = np.zeros((2,3))\n",
    "c = np.hstack((a,b))\n",
    "c"
   ]
  },
  {
   "cell_type": "code",
   "execution_count": 60,
   "id": "bfe341c3-221a-4416-bdfd-c5a4ddbbe35b",
   "metadata": {},
   "outputs": [
    {
     "data": {
      "text/plain": [
       "array([[1., 1., 1.],\n",
       "       [1., 1., 1.],\n",
       "       [0., 0., 0.],\n",
       "       [0., 0., 0.]])"
      ]
     },
     "execution_count": 60,
     "metadata": {},
     "output_type": "execute_result"
    }
   ],
   "source": [
    "#concatenate the arrays.\n",
    "a = np.ones((2,3))\n",
    "b = np.zeros((2,3))\n",
    "c = np.concatenate((a,b))\n",
    "c"
   ]
  },
  {
   "cell_type": "code",
   "execution_count": 61,
   "id": "8a6aae64-9eaf-40a5-ba85-75cdebc589c0",
   "metadata": {},
   "outputs": [
    {
     "data": {
      "text/plain": [
       "[array([0, 1]), array([2, 3]), array([4, 5]), array([6, 7]), array([8, 9])]"
      ]
     },
     "execution_count": 61,
     "metadata": {},
     "output_type": "execute_result"
    }
   ],
   "source": [
    "# split the arrays in 5 parts.\n",
    "arr = np.arange(10)\n",
    "s = np.split(arr,5)\n",
    "s"
   ]
  },
  {
   "cell_type": "code",
   "execution_count": 64,
   "id": "4a816056-8213-40e5-8f65-52f591454078",
   "metadata": {},
   "outputs": [
    {
     "data": {
      "text/plain": [
       "array([[ 2,  3],\n",
       "       [ 6,  7],\n",
       "       [10, 11],\n",
       "       [14, 15]])"
      ]
     },
     "execution_count": 64,
     "metadata": {},
     "output_type": "execute_result"
    }
   ],
   "source": [
    "# split the array horizontally in 2 parts.\n",
    "matrix = np.arange(16).reshape(4,4)\n",
    "arr1,arr2 = np.hsplit(matrix,2)\n",
    "arr1\n",
    "arr2"
   ]
  },
  {
   "cell_type": "code",
   "execution_count": 69,
   "id": "0f2c3fa0-1cc0-4846-a819-a39c9935c7d0",
   "metadata": {},
   "outputs": [
    {
     "data": {
      "text/plain": [
       "array([ 1,  2, 99,  3,  4])"
      ]
     },
     "execution_count": 69,
     "metadata": {},
     "output_type": "execute_result"
    }
   ],
   "source": [
    "arr = np.array([1,2,3,4])\n",
    "np.insert(arr,2,99)\n",
    "\n"
   ]
  },
  {
   "cell_type": "code",
   "execution_count": 70,
   "id": "90a2ecbd-a574-4255-895b-b04eb82b5b86",
   "metadata": {},
   "outputs": [
    {
     "data": {
      "text/plain": [
       "array([1, 2, 3, 4, 5])"
      ]
     },
     "execution_count": 70,
     "metadata": {},
     "output_type": "execute_result"
    }
   ],
   "source": [
    "arr = np.array([1,2,3,4])\n",
    "np.append(arr,5)"
   ]
  },
  {
   "cell_type": "code",
   "execution_count": 71,
   "id": "729c5ed5-142a-4f96-8b1b-019c21167e62",
   "metadata": {},
   "outputs": [
    {
     "data": {
      "text/plain": [
       "array([1, 2, 3])"
      ]
     },
     "execution_count": 71,
     "metadata": {},
     "output_type": "execute_result"
    }
   ],
   "source": [
    "arr = np.array([1,1,1,2,2,2,3,3,3])\n",
    "np.unique(arr)"
   ]
  },
  {
   "cell_type": "code",
   "execution_count": 72,
   "id": "4ef42238-df5e-40ee-9b67-23fb1649f57a",
   "metadata": {},
   "outputs": [
    {
     "data": {
      "text/plain": [
       "array([1, 2, 3, 1, 2, 3, 1, 2, 3])"
      ]
     },
     "execution_count": 72,
     "metadata": {},
     "output_type": "execute_result"
    }
   ],
   "source": [
    "arr = np.array([1,2,3,])\n",
    "np.tile(arr,3)"
   ]
  },
  {
   "cell_type": "code",
   "execution_count": 73,
   "id": "a23e4d6d-50a3-4e5b-b8f3-ed270f068581",
   "metadata": {},
   "outputs": [
    {
     "data": {
      "text/plain": [
       "array([1, 1, 1, 2, 2, 2, 3, 3, 3, 4, 4, 4])"
      ]
     },
     "execution_count": 73,
     "metadata": {},
     "output_type": "execute_result"
    }
   ],
   "source": [
    "arr = np.array([1,2,3,4])\n",
    "np.repeat(arr,3)"
   ]
  },
  {
   "cell_type": "markdown",
   "id": "83e2cac0-3bdf-4695-a774-8c19433c1af4",
   "metadata": {},
   "source": [
    "### 5.Broadcasting and conditional logic."
   ]
  },
  {
   "cell_type": "code",
   "execution_count": 75,
   "id": "08a71d45-66cb-4118-9e1d-40063a90c086",
   "metadata": {},
   "outputs": [
    {
     "data": {
      "text/plain": [
       "array([[2., 3., 4.],\n",
       "       [2., 3., 4.],\n",
       "       [2., 3., 4.],\n",
       "       [2., 3., 4.]])"
      ]
     },
     "execution_count": 75,
     "metadata": {},
     "output_type": "execute_result"
    }
   ],
   "source": [
    "v = np.array([1,2,3])\n",
    "M = np.ones((4,3))\n",
    "M + v\n"
   ]
  },
  {
   "cell_type": "code",
   "execution_count": 77,
   "id": "000505e1-b27e-49c0-8f83-a364a4e3be09",
   "metadata": {},
   "outputs": [
    {
     "data": {
      "text/plain": [
       "array([0, 0, 0, 0, 0, 5, 6, 7, 8, 9])"
      ]
     },
     "execution_count": 77,
     "metadata": {},
     "output_type": "execute_result"
    }
   ],
   "source": [
    "arr = np.arange(10)\n",
    "np.where(arr<5,0,arr)\n"
   ]
  },
  {
   "cell_type": "code",
   "execution_count": 78,
   "id": "a51732a8-d9e3-4c6e-990f-79f6ba4719d5",
   "metadata": {},
   "outputs": [
    {
     "data": {
      "text/plain": [
       "array([0, 1, 0, 1, 0, 1, 0, 1, 0, 1])"
      ]
     },
     "execution_count": 78,
     "metadata": {},
     "output_type": "execute_result"
    }
   ],
   "source": [
    "arr = np.arange(10)\n",
    "np.where(arr % 2 ==0,0,1)"
   ]
  },
  {
   "cell_type": "code",
   "execution_count": 86,
   "id": "9095d2aa-820b-4fc5-b772-ff634f047f37",
   "metadata": {},
   "outputs": [
    {
     "data": {
      "text/plain": [
       "array([[23, 10,  9, 13, 24],\n",
       "       [19, 22, 23, 15,  0],\n",
       "       [15, 11,  9,  2, 21],\n",
       "       [ 7, 12,  6,  7,  8],\n",
       "       [16,  8, 20,  7, 19]], dtype=int32)"
      ]
     },
     "execution_count": 86,
     "metadata": {},
     "output_type": "execute_result"
    }
   ],
   "source": [
    "arr = np.random.randint(25,size = (5,5))\n",
    "arr = np.where(arr >50,50,arr)\n",
    "arr"
   ]
  },
  {
   "cell_type": "code",
   "execution_count": 90,
   "id": "726effcb-b2d5-4a06-9a2d-ad300d1f5cc7",
   "metadata": {},
   "outputs": [
    {
     "data": {
      "text/plain": [
       "array([0, 1, 2, 9])"
      ]
     },
     "execution_count": 90,
     "metadata": {},
     "output_type": "execute_result"
    }
   ],
   "source": [
    "arr = np.arange(10)\n",
    "m = (arr < 3) | (arr > 8)\n",
    "arr = arr[m]\n",
    "arr"
   ]
  },
  {
   "cell_type": "code",
   "execution_count": 96,
   "id": "3f73cce9-6d54-4fcf-a56b-b073dcdc6100",
   "metadata": {},
   "outputs": [
    {
     "data": {
      "text/plain": [
       "array([[ -8.76538647,  -8.76538647,  -0.71554175, -16.81523119,\n",
       "         -6.97653209],\n",
       "       [ 18.06742926,   3.7565942 ,  18.06742926, -19.49851276,\n",
       "         13.5952933 ],\n",
       "       [-12.34309524,  18.96185645,   4.65102139,  10.91201173,\n",
       "        -18.60408557],\n",
       "       [ 13.5952933 , -15.02637681, -16.81523119,  -6.0821049 ,\n",
       "          7.33430297],\n",
       "       [  4.65102139, -19.49851276,  13.5952933 ,   5.54544858,\n",
       "         17.17300207]])"
      ]
     },
     "execution_count": 96,
     "metadata": {},
     "output_type": "execute_result"
    }
   ],
   "source": [
    "arr = np.random.randint(1,50,size = (5,5))\n",
    "m = np.mean(arr)\n",
    "s = np.std(arr)\n",
    "n = (arr - m)/(std)\n",
    "n"
   ]
  },
  {
   "cell_type": "markdown",
   "id": "d3322b1f-b7e7-4021-8f26-87a714a6a5a5",
   "metadata": {},
   "source": [
    "### 6.Statistics,Sorting and Searching."
   ]
  },
  {
   "cell_type": "code",
   "execution_count": 7,
   "id": "f62e2131-0619-4bd6-b4b0-a2f3c3c5515a",
   "metadata": {},
   "outputs": [
    {
     "data": {
      "text/plain": [
       "array([ 3,  5,  7, 10, 16, 19, 23, 25, 31, 43], dtype=int32)"
      ]
     },
     "execution_count": 7,
     "metadata": {},
     "output_type": "execute_result"
    }
   ],
   "source": [
    "# create a 1d array of 10 random integers and sort in ascending order.\n",
    "arr = np.random.randint(1,50,10)\n",
    "np.sort(arr)"
   ]
  },
  {
   "cell_type": "code",
   "execution_count": 8,
   "id": "a5dfef70-ed7e-47c4-a0b6-c600457ecc5d",
   "metadata": {},
   "outputs": [
    {
     "data": {
      "text/plain": [
       "array([1, 3, 0, 2])"
      ]
     },
     "execution_count": 8,
     "metadata": {},
     "output_type": "execute_result"
    }
   ],
   "source": [
    "# find the indices that would sort an array.\n",
    "arr = np.array([3,1,4,2])\n",
    "np.argsort(arr)"
   ]
  },
  {
   "cell_type": "code",
   "execution_count": 10,
   "id": "06afa45c-9ab8-48dc-8cf5-62514774e490",
   "metadata": {},
   "outputs": [
    {
     "data": {
      "text/plain": [
       "np.int64(2)"
      ]
     },
     "execution_count": 10,
     "metadata": {},
     "output_type": "execute_result"
    }
   ],
   "source": [
    "#find the index of maximum value.\n",
    "arr = np.array([3,1,4,2])\n",
    "np.argmax(arr)"
   ]
  },
  {
   "cell_type": "code",
   "execution_count": 11,
   "id": "fbcc8b38-eccc-42e8-ad75-f0cb2f9bb437",
   "metadata": {},
   "outputs": [
    {
     "data": {
      "text/plain": [
       "np.int64(1)"
      ]
     },
     "execution_count": 11,
     "metadata": {},
     "output_type": "execute_result"
    }
   ],
   "source": [
    "#index of yhe minimum value.\n",
    "arr = np.array([3,1,4,2])\n",
    "np.argmin(arr)"
   ]
  },
  {
   "cell_type": "code",
   "execution_count": 16,
   "id": "9f44af38-2058-45eb-85ec-03e4c8457a3c",
   "metadata": {},
   "outputs": [
    {
     "data": {
      "text/plain": [
       "array([3, 2, 1, 3, 0])"
      ]
     },
     "execution_count": 16,
     "metadata": {},
     "output_type": "execute_result"
    }
   ],
   "source": [
    "arr = np.random.randint(1,50,20).reshape(4,5)\n",
    "np.argmax(arr,axis=0)"
   ]
  },
  {
   "cell_type": "code",
   "execution_count": 21,
   "id": "77cd91c0-d3c5-482d-aac8-f7b6eaf72924",
   "metadata": {},
   "outputs": [
    {
     "data": {
      "text/plain": [
       "array([1, 2, 3])"
      ]
     },
     "execution_count": 21,
     "metadata": {},
     "output_type": "execute_result"
    }
   ],
   "source": [
    "arr = np.array([1,2,2,3,3,3,1])\n",
    "np.unique(arr,return_counts = False)"
   ]
  },
  {
   "cell_type": "code",
   "execution_count": 22,
   "id": "35fdafef-0941-49ea-8ee9-53c9dbe84901",
   "metadata": {},
   "outputs": [
    {
     "data": {
      "text/plain": [
       "array([2, 3])"
      ]
     },
     "execution_count": 22,
     "metadata": {},
     "output_type": "execute_result"
    }
   ],
   "source": [
    "a = np.array([1,2,3])\n",
    "b = np.array([2,3,4])\n",
    "np.intersect1d(a,b)"
   ]
  },
  {
   "cell_type": "code",
   "execution_count": 23,
   "id": "1eee1231-9a53-47a5-8495-b8483bc316b1",
   "metadata": {},
   "outputs": [
    {
     "data": {
      "text/plain": [
       "array([1])"
      ]
     },
     "execution_count": 23,
     "metadata": {},
     "output_type": "execute_result"
    }
   ],
   "source": [
    "a = np.array([1,2,3])\n",
    "b = np.array([2,3,4])\n",
    "np.setdiff1d(a,b)"
   ]
  },
  {
   "cell_type": "code",
   "execution_count": 2,
   "id": "7e72e283-399e-4024-a54f-d3f4cd984832",
   "metadata": {},
   "outputs": [
    {
     "data": {
      "text/plain": [
       "np.float64(45.0)"
      ]
     },
     "execution_count": 2,
     "metadata": {},
     "output_type": "execute_result"
    }
   ],
   "source": [
    "arr = np.array([1,23,45,78,96])\n",
    "np.percentile(arr,50)\n"
   ]
  },
  {
   "cell_type": "code",
   "execution_count": 3,
   "id": "f03432b3-6e19-407c-9352-d1245be21421",
   "metadata": {},
   "outputs": [
    {
     "data": {
      "text/plain": [
       "array([23., 78.])"
      ]
     },
     "execution_count": 3,
     "metadata": {},
     "output_type": "execute_result"
    }
   ],
   "source": [
    "arr = np.array([1,23,45,78,96])\n",
    "np.percentile(arr,[25,75])\n"
   ]
  },
  {
   "cell_type": "code",
   "execution_count": 4,
   "id": "b28b89f8-af01-4b9c-a6f2-46456d3bcd5d",
   "metadata": {},
   "outputs": [
    {
     "data": {
      "text/plain": [
       "(array([0, 2, 4]),)"
      ]
     },
     "execution_count": 4,
     "metadata": {},
     "output_type": "execute_result"
    }
   ],
   "source": [
    "arr = np.array([1,0,2,0,3])\n",
    "np.nonzero(arr)"
   ]
  },
  {
   "cell_type": "code",
   "execution_count": 6,
   "id": "f59287e4-fc60-4201-b6d3-a662a8072a75",
   "metadata": {},
   "outputs": [
    {
     "data": {
      "text/plain": [
       "array([False, False,  True,  True])"
      ]
     },
     "execution_count": 6,
     "metadata": {},
     "output_type": "execute_result"
    }
   ],
   "source": [
    "a = np.array([1,2,3,4])\n",
    "b= np.array([4,3,7,9])\n",
    "np.isin(a,b)"
   ]
  },
  {
   "cell_type": "code",
   "execution_count": 10,
   "id": "9e41de89-22e6-42f1-8664-d059747e8a3f",
   "metadata": {},
   "outputs": [
    {
     "data": {
      "text/plain": [
       "array([90, 62, 55])"
      ]
     },
     "execution_count": 10,
     "metadata": {},
     "output_type": "execute_result"
    }
   ],
   "source": [
    "arr = np.array([10, 55, 30, 8, 90, 45, 62, 20])\n",
    "sorted_arr = np.sort(arr)[::-1]\n",
    "top_3 = sorted_arr[:3]\n",
    "top_3 "
   ]
  },
  {
   "cell_type": "markdown",
   "id": "30c5a457-2ec1-46f7-9ac0-1169e8931ab5",
   "metadata": {},
   "source": [
    "### 7.Practical Applications(Linear Algebra & I/O)"
   ]
  },
  {
   "cell_type": "code",
   "execution_count": 21,
   "id": "d548acd2-c869-4c71-a7c9-03acb0e9cfb7",
   "metadata": {},
   "outputs": [
    {
     "data": {
      "text/plain": [
       "(array([[ 7,  8],\n",
       "        [31, 36]]),)"
      ]
     },
     "execution_count": 21,
     "metadata": {},
     "output_type": "execute_result"
    }
   ],
   "source": [
    "#create a 2*2 matrix A and a 2*2 matrix B.perform matrix multiplication.\n",
    "A = np.arange(4).reshape(2,2)\n",
    "B = np.arange(5,9).reshape(2,2)\n",
    "C = A @ B\n",
    "C,\n"
   ]
  },
  {
   "cell_type": "code",
   "execution_count": 22,
   "id": "14683edc-85b7-4adc-80e3-04eec2429db3",
   "metadata": {},
   "outputs": [
    {
     "data": {
      "text/plain": [
       "array([[-1.5,  0.5],\n",
       "       [ 1. ,  0. ]])"
      ]
     },
     "execution_count": 22,
     "metadata": {},
     "output_type": "execute_result"
    }
   ],
   "source": [
    "# find the inverse of a matrix.\n",
    "A = np.arange(4).reshape(2,2)\n",
    "np.linalg.inv(A)"
   ]
  },
  {
   "cell_type": "code",
   "execution_count": 23,
   "id": "41f9712f-2e6b-4383-90fc-23cce2e3e0b8",
   "metadata": {},
   "outputs": [
    {
     "data": {
      "text/plain": [
       "np.float64(-1.999999999999999)"
      ]
     },
     "execution_count": 23,
     "metadata": {},
     "output_type": "execute_result"
    }
   ],
   "source": [
    "#find the determinant of B.\n",
    "B = np.arange(5,9).reshape(2,2)\n",
    "np.linalg.det(B)"
   ]
  },
  {
   "cell_type": "code",
   "execution_count": 30,
   "id": "6e300b45-d0de-4b47-b3fd-f38ae34131b1",
   "metadata": {},
   "outputs": [],
   "source": [
    "arr = np.random.randint(0,50,10)\n",
    "file = 'my_array.npy'\n",
    "np.save(file,arr)"
   ]
  },
  {
   "cell_type": "code",
   "execution_count": 31,
   "id": "5e522d79-bfd0-4be6-880f-6cd25a83fb1a",
   "metadata": {},
   "outputs": [
    {
     "data": {
      "text/plain": [
       "array([ 0, 19, 34, 30, 47, 37, 18, 22, 39, 46], dtype=int32)"
      ]
     },
     "execution_count": 31,
     "metadata": {},
     "output_type": "execute_result"
    }
   ],
   "source": [
    "data = np.load('my_array.npy')\n",
    "data"
   ]
  },
  {
   "cell_type": "code",
   "execution_count": 37,
   "id": "c21b141d-a999-475e-a7c8-b2d74f0e4924",
   "metadata": {},
   "outputs": [],
   "source": [
    "arr = np.random.randint(0,50,size = (2,2))\n",
    "file = 'my_matrix.csv'\n",
    "data = np.savetxt(file,arr,delimiter= ',',fmt='%d')"
   ]
  },
  {
   "cell_type": "code",
   "execution_count": null,
   "id": "0256f32a-c6c1-4136-be0b-f49b77249a00",
   "metadata": {},
   "outputs": [],
   "source": []
  }
 ],
 "metadata": {
  "kernelspec": {
   "display_name": "Python 3 (ipykernel)",
   "language": "python",
   "name": "python3"
  },
  "language_info": {
   "codemirror_mode": {
    "name": "ipython",
    "version": 3
   },
   "file_extension": ".py",
   "mimetype": "text/x-python",
   "name": "python",
   "nbconvert_exporter": "python",
   "pygments_lexer": "ipython3",
   "version": "3.13.5"
  }
 },
 "nbformat": 4,
 "nbformat_minor": 5
}
